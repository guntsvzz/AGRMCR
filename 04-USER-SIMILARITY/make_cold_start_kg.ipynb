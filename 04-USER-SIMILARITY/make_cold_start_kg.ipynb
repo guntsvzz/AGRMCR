{
 "cells": [
  {
   "cell_type": "code",
   "execution_count": 45,
   "metadata": {},
   "outputs": [
    {
     "name": "stdout",
     "output_type": "stream",
     "text": [
      "Load embedding: data/beauty/Amazon_Beauty_01_01/test_transe_embed.pkl\n"
     ]
    }
   ],
   "source": [
    "from __future__ import absolute_import, division, print_function\n",
    "\n",
    "import os\n",
    "import json\n",
    "import argparse\n",
    "import torch\n",
    "import torch.optim as optim\n",
    "import numpy as np\n",
    "from copy import deepcopy\n",
    "from tqdm.auto import tqdm\n",
    "from utils import *\n",
    "from easydict import EasyDict as edict\n",
    "\n",
    "class Arguemnt:\n",
    "    seed = 0\n",
    "    config = \"config/beauty/graph_reasoning/UPGPR.json\"\n",
    "    seed = 0\n",
    "    domain = \"Beauty\"\n",
    "    \n",
    "args = Arguemnt()\n",
    "\n",
    "with open(args.config, \"r\") as f:\n",
    "    config = edict(json.load(f))\n",
    "\n",
    "config.seed = args.seed\n",
    "\n",
    "transe_config = config.TRAIN_EMBEDS\n",
    "transe_config.use_user_relations = config.use_user_relations\n",
    "transe_config.use_entity_relations = config.use_entity_relations\n",
    "\n",
    "assert (\n",
    "    transe_config.min_epochs <= transe_config.epochs\n",
    "), \"Minimum number of epochs should be lower than total number of epochs.\"\n",
    "\n",
    "if config.use_wandb:\n",
    "    wandb.init(\n",
    "        project=config.wandb_project_name, name=config.wandb_run_name, config=config\n",
    "    )\n",
    "\n",
    "os.environ[\"CUDA_VISIBLE_DEVICES\"] = transe_config.gpu\n",
    "\n",
    "transe_config.device = torch.device(\"cuda\") if torch.cuda.is_available() else \"cpu\"\n",
    "\n",
    "set_name = \"test\"\n",
    "embeds = load_embed(config.processed_data_dir, set_name)\n",
    "dataset = load_dataset(config.processed_data_dir, set_name)\n",
    "kg = load_kg(config.processed_data_dir, set_name)\n",
    "# user_pref = load_user_pref(config.processed_data_dir, args.domain)\n",
    "\n",
    "# make_cold_embeds(config, embeds, set_name, dataset)"
   ]
  },
  {
   "cell_type": "code",
   "execution_count": 46,
   "metadata": {},
   "outputs": [],
   "source": [
    "##make_cold_embeds\n",
    "# load cold start users\n",
    "cold_users_path = os.path.join(config.processed_data_dir, \"cold_start_users.json\")\n",
    "cold_users = json.load(open(cold_users_path, \"r\"))\n",
    "\n",
    "# load cold start items\n",
    "cold_items_path = os.path.join(config.processed_data_dir, \"cold_start_items.json\")\n",
    "cold_items = json.load(open(cold_items_path, \"r\"))\n",
    "\n",
    "# set all cold start users embeddings to 0\n",
    "tmp_cold_users = cold_users[\"test\"] + cold_users[\"validation\"]\n",
    "embeds[\"user\"][tmp_cold_users] = 0\n",
    "\n",
    "# # set all cold start items embeddings to 0\n",
    "# tmp_cold_items = cold_items[\"test\"] + cold_items[\"validation\"]\n",
    "# embeds[\"item\"][tmp_cold_items] = 0\n",
    "    \n",
    "tmp_cold_users = cold_users[set_name]\n",
    "tmp_cold_items = cold_items[set_name]\n",
    "\n",
    "# making a copy of the embeddings to avoid using the modified cold start embeddings in the next iteration\n",
    "tmp_embeds = deepcopy(embeds)\n",
    "nb_relations = 0"
   ]
  },
  {
   "cell_type": "code",
   "execution_count": 47,
   "metadata": {},
   "outputs": [],
   "source": [
    "class UserPreferences(dict):\n",
    "    def __init__(self):\n",
    "        super().__init__()\n",
    "        self.update({\n",
    "            'interested_in': ['interested_in_u_c.txt', 'category'],\n",
    "            'like': ['like_u_b_rate.txt', 'brand'],\n",
    "            'disinterested_in': ['interested_in_u_c.txt', 'category'],\n",
    "            'dislike': ['dislike_u_b_rate.txt', 'brand']\n",
    "        })\n",
    "\n",
    "    def items(self):\n",
    "        return super().items()\n",
    "    \n",
    "user_preferences = UserPreferences()"
   ]
  },
  {
   "cell_type": "code",
   "execution_count": 48,
   "metadata": {},
   "outputs": [
    {
     "data": {
      "text/plain": [
       "dict_keys(['purchase', 'mentioned', 'interested_in', 'like', 'dislike'])"
      ]
     },
     "execution_count": 48,
     "metadata": {},
     "output_type": "execute_result"
    }
   ],
   "source": [
    "dataset.data_args.kg_relation.user.keys()"
   ]
  },
  {
   "cell_type": "code",
   "execution_count": 49,
   "metadata": {},
   "outputs": [],
   "source": [
    "def get_feature(idx):\n",
    "    offset = len(kg.G['brand'])\n",
    "    # Replace with your actual logic to determine if idx is a brand or category\n",
    "    if idx >= offset:\n",
    "        return 'category'\n",
    "    else:\n",
    "        return 'brand'\n",
    "    \n",
    "def user_preference_config(user_acc_feature=None, user_rej_feature=None, user_rej_items=None, dataset=None):\n",
    "    offset = len(kg.G['brand'])\n",
    "    if user_acc_feature is None:\n",
    "        user_acc_feature = list()\n",
    "    if user_rej_feature is None:\n",
    "        user_rej_feature = list()\n",
    "    if user_rej_items is None:\n",
    "        user_rej_items = list()\n",
    "        \n",
    "    # Create an empty user dictionary with the same keys and empty lists as values\n",
    "    user_preferred = {key: [] for key in dataset.data_args.kg_relation.user.keys()}\n",
    "    user_preferred['disinterested_in'] = []\n",
    "    user_preferred['dislike'] = []\n",
    "    user_preferred['non-purchase'] = []\n",
    "\n",
    "    # Process user_acc_feature\n",
    "    for idx in user_acc_feature:\n",
    "        preference = get_feature(idx)\n",
    "        if preference == 'brand':\n",
    "            user_preferred['like'].append(idx)\n",
    "        elif preference == 'category':\n",
    "            user_preferred['interested_in'].append(idx- offset)\n",
    "\n",
    "    # Process user_rej_feature\n",
    "    for idx in user_rej_feature:\n",
    "        preference = get_feature(idx)\n",
    "        if preference == 'brand':\n",
    "            user_preferred['dislike'].append(idx)\n",
    "        elif preference == 'category':\n",
    "            user_preferred['disinterested_in'].append(idx - offset)\n",
    "\n",
    "    # Assign user_rej_items to non-purchase\n",
    "    user_preferred['non-purchase'] = user_rej_items\n",
    "    \n",
    "    return user_preferred"
   ]
  },
  {
   "cell_type": "code",
   "execution_count": 50,
   "metadata": {},
   "outputs": [
    {
     "data": {
      "text/plain": [
       "201"
      ]
     },
     "execution_count": 50,
     "metadata": {},
     "output_type": "execute_result"
    }
   ],
   "source": [
    "def load_user_pref(path, domain):\n",
    "    user_pref_path = os.path.join(path)\n",
    "    # Load JSON data from a file\n",
    "    user_pref = json.load(open(f'{user_pref_path}/user_preference_{domain}.json', 'r'))\n",
    "    return user_pref\n",
    "\n",
    "user_pref = load_user_pref(config.processed_data_dir, args.domain)\n",
    "len(user_pref)"
   ]
  },
  {
   "cell_type": "code",
   "execution_count": 51,
   "metadata": {},
   "outputs": [
    {
     "data": {
      "application/vnd.jupyter.widget-view+json": {
       "model_id": "ff8aafdbf7c74096aa544ef89d6482c3",
       "version_major": 2,
       "version_minor": 0
      },
      "text/plain": [
       "  0%|          | 0/201 [00:00<?, ?it/s]"
      ]
     },
     "metadata": {},
     "output_type": "display_data"
    }
   ],
   "source": [
    "all_user_pref = {}\n",
    "dataset = load_dataset(config.processed_data_dir, set_name)\n",
    "\n",
    "for idx in tqdm(range(len(user_pref))):\n",
    "    user_id = user_pref[str(idx)]['idx_user']\n",
    "    target_item = user_pref[str(idx)]['idx_item']\n",
    "    user_acc_feature = user_pref[str(idx)]['user_acc_feature']\n",
    "    user_rej_feature = user_pref[str(idx)]['user_rej_feature']\n",
    "    user_rej_items = user_pref[str(idx)]['user_rej_items']\n",
    "    \n",
    "    user_preferred = user_preference_config(\n",
    "        user_acc_feature = user_acc_feature, \n",
    "        user_rej_feature = user_rej_feature, \n",
    "        user_rej_items = user_rej_items, \n",
    "        dataset= dataset)\n",
    "    \n",
    "    all_user_pref[user_pref[str(idx)]['idx_user']] = user_preferred\n",
    "    # break"
   ]
  },
  {
   "cell_type": "code",
   "execution_count": 40,
   "metadata": {},
   "outputs": [
    {
     "data": {
      "text/plain": [
       "153"
      ]
     },
     "execution_count": 40,
     "metadata": {},
     "output_type": "execute_result"
    }
   ],
   "source": [
    "len(all_user_pref)"
   ]
  },
  {
   "cell_type": "code",
   "execution_count": 53,
   "metadata": {},
   "outputs": [],
   "source": [
    "# Accessing items in the dictionary:\n",
    "for idx, user in enumerate(all_user_pref):\n",
    "    # for relation, entity in dataset.data_args.item_relation.items():\n",
    "    for relation, entity in user_preferences.items():\n",
    "        # print(f'RELATION : {relation.ljust(16)} | ENTITY : {entity}')\n",
    "        if relation == 'disinterested_in':\n",
    "            relation = 'interested_in'\n",
    "            continue\n",
    "        entities = user_preferred[relation]\n",
    "        all_related_emb = (\n",
    "            embeds[entity[1]][entities] - embeds[relation][0]\n",
    "        )\n",
    "        nb_relations += all_related_emb.shape[0]\n",
    "        # sum all related entities embeddings\n",
    "        if relation in ['interested_in', 'like', 'dislike']:\n",
    "            tmp_embeds[\"user\"][user] += all_related_emb.sum(axis=0)\n",
    "        # elif relation in ['disinterested_in']:\n",
    "        #     zero_embeds[\"user\"] -= all_related_emb.sum(axis=0)\n",
    "    # divide by the number of relations to get the average\n",
    "    if nb_relations > 0:\n",
    "        tmp_embeds[\"user\"][user] /= nb_relations"
   ]
  },
  {
   "cell_type": "code",
   "execution_count": 44,
   "metadata": {},
   "outputs": [],
   "source": [
    "# save the embeddings\n",
    "save_embed(\n",
    "    config.processed_data_dir, f\"{set_name}_cold_start_transe_embed.pkl\", tmp_embeds\n",
    ")"
   ]
  },
  {
   "cell_type": "code",
   "execution_count": null,
   "metadata": {},
   "outputs": [],
   "source": []
  }
 ],
 "metadata": {
  "kernelspec": {
   "display_name": "Python 3",
   "language": "python",
   "name": "python3"
  },
  "language_info": {
   "codemirror_mode": {
    "name": "ipython",
    "version": 3
   },
   "file_extension": ".py",
   "mimetype": "text/x-python",
   "name": "python",
   "nbconvert_exporter": "python",
   "pygments_lexer": "ipython3",
   "version": "3.9.6"
  }
 },
 "nbformat": 4,
 "nbformat_minor": 2
}
